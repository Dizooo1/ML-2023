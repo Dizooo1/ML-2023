{
  "cells": [
    {
      "cell_type": "markdown",
      "source": [
        "#  Лабораторна робота №2\n",
        "### навчально-методичний додаток\n",
        "***"
      ],
      "metadata": {}
    },
    {
      "cell_type": "markdown",
      "source": [
        "## Завдання №1 \" Конструкції Python\"\n",
        "- заповнити пусті рядки вашим рішенням"
      ],
      "metadata": {}
    },
    {
      "cell_type": "markdown",
      "source": [
        "### Змінні\n",
        "\n",
        "Ім'я, яке використовується для позначення чогось або значення, називається **змінною**. У python можна оголошувати змінні і присвоювати йому значення наступним чином:\n",
        "\n",
        "- x = 10             \n",
        "- y = -3.1428         \n",
        "- s = \"Вася Пупкін\"\n",
        "- a = [x, y, s]\n",
        "- b = False\n",
        "- t = (y, \"Студент\")\n",
        "\n",
        "---\n",
        "_[Прочитати про типи даних](https://uk.education-wiki.com/2923901-python-data-types)_\n",
        "\n",
        "Тип даних можна перевірити наступною інструкцією: `type(<імя змінної>)`"
      ],
      "metadata": {}
    },
    {
      "cell_type": "code",
      "source": [
        "# виконайте присвоювання та виведіть типи даних x, y, s, b, t:\n",
        "x = 10\n",
        "y = -3.1428\n",
        "s = \"Вася Пупкін\"\n",
        "a = [x, y, s]\n",
        "b = False\n",
        "t = (y, \"Студент\")\n",
        "\n",
        "type(x)\n",
        "type(y)\n",
        "type(s)\n",
        "type(b)\n",
        "type(t)"
      ],
      "outputs": [
        {
          "output_type": "execute_result",
          "execution_count": 17,
          "data": {
            "text/plain": "tuple"
          },
          "metadata": {}
        }
      ],
      "execution_count": 17,
      "metadata": {
        "run_control": {
          "marked": false
        }
      }
    },
    {
      "cell_type": "markdown",
      "source": [
        "### Опрератори\n",
        "\n",
        "#### арифметичні\n",
        "\n",
        "| Позначка | Виконує |\n",
        "|----|---|\n",
        "| +  | Додавання |\n",
        "| -  | Віднімання |\n",
        "| /  | поділ |\n",
        "| %  | остаток від ділення |\n",
        "| *  | множення |\n",
        "| //  | цілочісельне ділення |\n",
        "| **  | ступінь |"
      ],
      "metadata": {
        "heading_collapsed": true
      }
    },
    {
      "cell_type": "code",
      "source": [
        "# застосуйте вищенаведені оператори до `x` та `y`:\n",
        "x + y\n",
        "x - y\n",
        "x / y\n",
        "x % y\n",
        "x * y\n",
        "x // y\n",
        "x ** y"
      ],
      "outputs": [
        {
          "output_type": "execute_result",
          "execution_count": 18,
          "data": {
            "text/plain": "0.0007197803728026997"
          },
          "metadata": {}
        }
      ],
      "execution_count": 18,
      "metadata": {
        "hidden": true,
        "scrolled": false
      }
    },
    {
      "cell_type": "markdown",
      "source": [
        "#### порівняння\n",
        "| Позначка | Результат |\n",
        "|----|---|\n",
        "| == | True, якщо рівні |\n",
        "| !=  | True, якщо не рівні |\n",
        "| < | менше |\n",
        "| > | більше |\n",
        "| <=  | менше чи равно |\n",
        "| >=  | більше чи равно |"
      ],
      "metadata": {
        "hidden": true
      }
    },
    {
      "cell_type": "code",
      "source": [
        "# застосуйте вищенаведені оператори до `x` та `y`:\n",
        "x == y\n",
        "x != y\n",
        "x < y\n",
        "x > y\n",
        "x <= y\n",
        "x  >= y"
      ],
      "outputs": [
        {
          "output_type": "execute_result",
          "execution_count": 7,
          "data": {
            "text/plain": "True"
          },
          "metadata": {}
        }
      ],
      "execution_count": 7,
      "metadata": {
        "hidden": true
      }
    },
    {
      "cell_type": "markdown",
      "source": [
        "### Вбудовані функції перетворення типів\n",
        "1. str(<змінна чи вираз>) - перетворення в строку\n",
        "2. int(<змінна чи вираз>) - перетворення в ціле\n",
        "3. float(<змінна чи вираз>) - перетворення в дийсне число\n",
        "\n",
        "[Прочитати про інші функції перетворення типів](http://nikolay.in.ua/navchaemos/python-3/612-tipi-danikh-funktsiji-peretvorennya-tipiv-operatsiji-z-chislovimi-tipami)\n"
      ],
      "metadata": {}
    },
    {
      "cell_type": "code",
      "source": [
        "# застосуйте (1) функцію до змінних 'x' - 't' , (2) до `x` - 's', (3) - `x` - `y`\n",
        "# (якщо будуть помилки - виправте їх самотуж)\n",
        "str(x)\n",
        "str(y)\n",
        "int(x)\n",
        "int(s)\n",
        "float(x)\n",
        "float(y)"
      ],
      "outputs": [
        {
          "output_type": "error",
          "ename": "ValueError",
          "evalue": "invalid literal for int() with base 10: 'Вася Пупкін'",
          "traceback": [
            "\u001b[1;31m---------------------------------------------------------------------------\u001b[0m",
            "\u001b[1;31mValueError\u001b[0m                                Traceback (most recent call last)",
            "\u001b[1;32m~\\AppData\\Local\\Temp\\ipykernel_19712\\3304490904.py\u001b[0m in \u001b[0;36m<module>\u001b[1;34m\u001b[0m\n\u001b[0;32m      4\u001b[0m \u001b[0mstr\u001b[0m\u001b[1;33m(\u001b[0m\u001b[0my\u001b[0m\u001b[1;33m)\u001b[0m\u001b[1;33m\u001b[0m\u001b[1;33m\u001b[0m\u001b[0m\n\u001b[0;32m      5\u001b[0m \u001b[0mint\u001b[0m\u001b[1;33m(\u001b[0m\u001b[0mx\u001b[0m\u001b[1;33m)\u001b[0m\u001b[1;33m\u001b[0m\u001b[1;33m\u001b[0m\u001b[0m\n\u001b[1;32m----> 6\u001b[1;33m \u001b[0mint\u001b[0m\u001b[1;33m(\u001b[0m\u001b[0ms\u001b[0m\u001b[1;33m)\u001b[0m\u001b[1;33m\u001b[0m\u001b[1;33m\u001b[0m\u001b[0m\n\u001b[0m\u001b[0;32m      7\u001b[0m \u001b[0mfloat\u001b[0m\u001b[1;33m(\u001b[0m\u001b[0mx\u001b[0m\u001b[1;33m)\u001b[0m\u001b[1;33m\u001b[0m\u001b[1;33m\u001b[0m\u001b[0m\n\u001b[0;32m      8\u001b[0m \u001b[0mfloat\u001b[0m\u001b[1;33m(\u001b[0m\u001b[0my\u001b[0m\u001b[1;33m)\u001b[0m\u001b[1;33m\u001b[0m\u001b[1;33m\u001b[0m\u001b[0m\n",
            "\u001b[1;31mValueError\u001b[0m: invalid literal for int() with base 10: 'Вася Пупкін'"
          ]
        }
      ],
      "execution_count": 19,
      "metadata": {}
    },
    {
      "cell_type": "markdown",
      "source": [
        "## Завдання №3 \"Введення/вивід з консолі\"\n"
      ],
      "metadata": {}
    },
    {
      "cell_type": "markdown",
      "source": [
        "- __input__([символьний вираз]) - введення с консолі в _символьному форматі_ (__STDIN__) \n",
        "- __print__(<вираз>) - виведення в консоль (__STDOUT__)\n",
        "\n",
        "Для зчитування рядка зі стандартного вводу використовується функція input (), яка зчитує рядок з клавіатури і повертає значення, яке відразу ж можна привласнити змінним:\n",
        "`s = input()`\n",
        "\n",
        "Функція `input` повертає текстовий рядок. Якщо потрібно зробити так, щоб змінні мали чисельні значення, то відразу ж після зчитування виконаємо перетворення типів за допомогою функції `int` або `float`, і запишемо нове значення:\n",
        "`s1 = int(s)`\n",
        "\n",
        "Краще об'єднати зчитування рядків і перетворення типів, якщо викликати функцію int/float для того значення, яке поверне функція input ():\n",
        "`s = int(input())`"
      ],
      "metadata": {}
    },
    {
      "cell_type": "code",
      "source": [
        "# ввести з консолі число 2.71 в змінну 'e'\n",
        "e = 2.71"
      ],
      "outputs": [],
      "execution_count": 25,
      "metadata": {}
    },
    {
      "cell_type": "code",
      "source": [
        "# вивести в консоль 'е' в супені 5\n",
        "e**5"
      ],
      "outputs": [
        {
          "output_type": "execute_result",
          "execution_count": 26,
          "data": {
            "text/plain": "146.1660310351"
          },
          "metadata": {}
        }
      ],
      "execution_count": 26,
      "metadata": {}
    },
    {
      "cell_type": "markdown",
      "source": [
        "#### форматування  при виведенні\n",
        "у Python для позначення рядка використовуються одинарні, подвійні та потрійні лапки. Більшість використовують одинарні лапки при оголошенні одного символу. Подвійні лапки при оголошенні рядка та потрійні лапки при оголошенні абзацу / кількох рядків.\n",
        "\n",
        "- 'A' - одиночний символ\n",
        "- \"Студент Вася\" - рядок символів\n",
        "- \"\"\" Перший рядок \n",
        "    \n",
        "      Другий рядок\n",
        "      \n",
        "      ...\"\"\"\n"
      ],
      "metadata": {}
    },
    {
      "cell_type": "code",
      "source": [
        "# Рядки можуть бути призначені змінним наприкалд `name` та `surname`, \n",
        "# які можна викликати при використанні оператора print.\n",
        "# Виконайте код, який наведено нижче\n",
        "name = \"Вася\"\n",
        "surname = \"Пупкін\"\n",
        "print (name, surname)\n",
        "print(\"1+1\", 2, sep=\" -> \")"
      ],
      "outputs": [
        {
          "output_type": "stream",
          "name": "stdout",
          "text": "Вася Пупкін\n1+1 -> 2\n"
        }
      ],
      "execution_count": 30,
      "metadata": {}
    },
    {
      "cell_type": "markdown",
      "source": [
        "Напишіть нижче, для чого нужна '`,`' та `sep` в функції `print()`:\n",
        "\n",
        "..."
      ],
      "metadata": {}
    },
    {
      "cell_type": "markdown",
      "source": [
        "### форматування в функції `print()`\n",
        "\n",
        "[Прочитати про методи форматування вивода](https://python-scripts.com/string-formatting)"
      ],
      "metadata": {}
    },
    {
      "cell_type": "code",
      "source": [
        "# виконати код та розібратись, чому функція `print()...format` спрацювала таким чином\n",
        "print(\"{} {} - це студент\".format(name, surname))\n",
        "print(\"Результат буде = {}\".format(42 / 5 + 4))\n",
        "b = True\n",
        "print(\"{} - {} хлопець!\".format(name, b))\n",
        "print(\"{} {}\".format(surname, name))"
      ],
      "outputs": [
        {
          "output_type": "stream",
          "name": "stdout",
          "text": "Вася Пупкін - це студент\nРезультат буде = 12.4\nВася - True хлопець!\nПупкін Вася\n"
        }
      ],
      "execution_count": 31,
      "metadata": {
        "run_control": {
          "marked": false
        }
      }
    },
    {
      "cell_type": "markdown",
      "source": [
        "## Завдання №4 \"Керування обчисленнями\""
      ],
      "metadata": {}
    },
    {
      "cell_type": "markdown",
      "source": [
        "### Умовний оператор if / if-else / if-elif"
      ],
      "metadata": {
        "run_control": {
          "marked": false
        }
      }
    },
    {
      "cell_type": "markdown",
      "source": [
        "`if <логічний вираз(умова)> :\n",
        "  <код>`\n",
        "  \n",
        "`if <логічний вираз(умова)> :\n",
        "  <код>\n",
        " else :\n",
        "    <код>`\n",
        "\n",
        "`if <логічний вираз(умова)> :\n",
        "  <код>\n",
        " elif <логічний вираз_1(умова)> :\n",
        "  <код>\n",
        " elif <логічний вираз_2(умова)> :\n",
        "  <код>\n",
        "... \n",
        " [else] :\n",
        "   <код>`"
      ],
      "metadata": {}
    },
    {
      "cell_type": "code",
      "source": [
        "x = int(input(\"Введи x: \"))\n",
        "\n",
        "# ----- 1 ----------\n",
        "if x > 5:\n",
        "    print (x)\n",
        "    \n",
        "# ----- 2 ----------    \n",
        "if -5 < x < 5 :\n",
        "    print (x)\n",
        "else:\n",
        "    print (x ** 2)\n",
        "    \n",
        "# ----- 3 ----------\n",
        "if x > -5:\n",
        "    print (x)\n",
        "elif -5 < x < 5:\n",
        "    print (x ** 2)\n",
        "elif x > 5:\n",
        "    print (x ** (1/2))"
      ],
      "outputs": [
        {
          "output_type": "stream",
          "name": "stdout",
          "text": "Введи x: 31.5\n"
        },
        {
          "output_type": "error",
          "ename": "ValueError",
          "evalue": "invalid literal for int() with base 10: '31.5'",
          "traceback": [
            "\u001b[1;31m---------------------------------------------------------------------------\u001b[0m",
            "\u001b[1;31mValueError\u001b[0m                                Traceback (most recent call last)",
            "\u001b[1;32m~\\AppData\\Local\\Temp\\ipykernel_19712\\2482089182.py\u001b[0m in \u001b[0;36m<module>\u001b[1;34m\u001b[0m\n\u001b[1;32m----> 1\u001b[1;33m \u001b[0mx\u001b[0m \u001b[1;33m=\u001b[0m \u001b[0mint\u001b[0m\u001b[1;33m(\u001b[0m\u001b[0minput\u001b[0m\u001b[1;33m(\u001b[0m\u001b[1;34m\"Введи x: \"\u001b[0m\u001b[1;33m)\u001b[0m\u001b[1;33m)\u001b[0m\u001b[1;33m\u001b[0m\u001b[1;33m\u001b[0m\u001b[0m\n\u001b[0m\u001b[0;32m      2\u001b[0m \u001b[1;33m\u001b[0m\u001b[0m\n\u001b[0;32m      3\u001b[0m \u001b[1;31m# ----- 1 ----------\u001b[0m\u001b[1;33m\u001b[0m\u001b[1;33m\u001b[0m\u001b[0m\n\u001b[0;32m      4\u001b[0m \u001b[1;32mif\u001b[0m \u001b[0mx\u001b[0m \u001b[1;33m>\u001b[0m \u001b[1;36m5\u001b[0m\u001b[1;33m:\u001b[0m\u001b[1;33m\u001b[0m\u001b[1;33m\u001b[0m\u001b[0m\n\u001b[0;32m      5\u001b[0m     \u001b[0mprint\u001b[0m \u001b[1;33m(\u001b[0m\u001b[0mx\u001b[0m\u001b[1;33m)\u001b[0m\u001b[1;33m\u001b[0m\u001b[1;33m\u001b[0m\u001b[0m\n",
            "\u001b[1;31mValueError\u001b[0m: invalid literal for int() with base 10: '31.5'"
          ]
        }
      ],
      "execution_count": 28,
      "metadata": {}
    },
    {
      "cell_type": "markdown",
      "source": [
        "напишіть, який __if__ спрацював при:\n",
        "\n",
        "x = -20     3\n",
        "\n",
        "x = 31.5    1\n",
        "\n",
        "x = 4       2"
      ],
      "metadata": {}
    },
    {
      "cell_type": "code",
      "source": [
        "# напишить нижче код, який виводить слово 'студент', 'школяр' або 'малятко' \n",
        "# в залежності від введенного через консоль віку\n",
        "x = int(input(\"Введи вік: \"))\n",
        "\n",
        "if x < 5:\n",
        "    print (\"Малятко\")\n",
        "elif 6 < x < 18:\n",
        "    print (\"школяр\")\n",
        "else:\n",
        "    print (\"студент\")"
      ],
      "outputs": [
        {
          "output_type": "stream",
          "name": "stdout",
          "text": "Введи вік: 17\nшколяр\n"
        }
      ],
      "execution_count": 42,
      "metadata": {}
    },
    {
      "cell_type": "markdown",
      "source": [
        "### Цикли"
      ],
      "metadata": {}
    },
    {
      "cell_type": "markdown",
      "source": [
        "#### for\n",
        "\n",
        "`for <змінна> in <перераховуємий об'єкт>\n",
        "    код`\n",
        "    \n",
        "    \n",
        "__перераховуємий об'єкт__ - це об'єкт, який складається із декількох послідовних складових (чисел, строк та ін.)\n",
        "\n",
        "- 1, 13, -10, 321\n",
        "- \"Вася\", \"Пупкін\", \"студент\"\n",
        "- \"Вася\", -10.1, True\n",
        "\n",
        "[Прочитати про функцію `range`](https://python-scripts.com/range)"
      ],
      "metadata": {}
    },
    {
      "cell_type": "code",
      "source": [
        "# приклад цикла з 'for' та 'if'\n",
        "for i in range(10):\n",
        "    if i % 2 != 0:\n",
        "        print (-i)\n",
        "    else:\n",
        "        pass"
      ],
      "outputs": [
        {
          "output_type": "stream",
          "name": "stdout",
          "text": "1\n3\n5\n7\n9\n"
        }
      ],
      "execution_count": 44,
      "metadata": {}
    },
    {
      "cell_type": "markdown",
      "source": [
        "напишить своїми словами, що виконує наведений вище код\n",
        "\n",
        "код перебирає числа до 10 та ті які діляться на 2 і мають залишок код виводить із знаком мінус "
      ],
      "metadata": {}
    },
    {
      "cell_type": "code",
      "source": [
        "# напишіть нижче код, який сумує числа, які діляться без остатка на 3 \n",
        "# в інтервалі від 10 до 100\n",
        "a = 0\n",
        "for i in range(10,101):\n",
        "    if i % 3 <= 0:\n",
        "        a += i\n",
        "        print(a)\n",
        "    else:\n",
        "        pass\n",
        "\n"
      ],
      "outputs": [
        {
          "output_type": "stream",
          "name": "stdout",
          "text": "12\n27\n45\n66\n90\n117\n147\n180\n216\n255\n297\n342\n390\n441\n495\n552\n612\n675\n741\n810\n882\n957\n1035\n1116\n1200\n1287\n1377\n1470\n1566\n1665\n"
        }
      ],
      "execution_count": 55,
      "metadata": {}
    },
    {
      "cell_type": "markdown",
      "source": [
        "#### while\n",
        "\n",
        "[прочитати про цикл while](https://pythonru.com/osnovy/cikl-while-v-python)"
      ],
      "metadata": {}
    },
    {
      "cell_type": "code",
      "source": [
        "# запустіть цей код \n",
        "while(input(\"тисни тут: \") != '0'):\n",
        "    print (\"було введено\")\n",
        "    "
      ],
      "outputs": [
        {
          "output_type": "stream",
          "name": "stdout",
          "text": "тисни тут: 13\nбуло введено\nтисни тут: 3\nбуло введено\nтисни тут: 3\nбуло введено\nтисни тут: 0\n"
        }
      ],
      "execution_count": 54,
      "metadata": {}
    },
    {
      "cell_type": "markdown",
      "source": [
        "поясніть своїми словами, що виконує наведений вище код\n",
        "\n",
        "код запитує у нас число , якщо воно не = 0 то код продовжується . коли число = 0 то код зупиняться"
      ],
      "metadata": {}
    },
    {
      "cell_type": "code",
      "source": [
        "# використовуючи 'while`напишіть нижче код, який сумує числа, \n",
        "# які діляться без остатка на 3 в інтервалі від 10 до 100\n",
        "a = 10\n",
        "b = 0\n",
        "while a < 101:\n",
        "    a += 1\n",
        "    if a % 3 <= 0:\n",
        "        b += a\n",
        "        print(b)"
      ],
      "outputs": [
        {
          "output_type": "stream",
          "name": "stdout",
          "text": "12\n27\n45\n66\n90\n117\n147\n180\n216\n255\n297\n342\n390\n441\n495\n552\n612\n675\n741\n810\n882\n957\n1035\n1116\n1200\n1287\n1377\n1470\n1566\n1665\n"
        }
      ],
      "execution_count": 58,
      "metadata": {}
    },
    {
      "cell_type": "markdown",
      "source": [
        "## Виконану роботу перешліть через Teams викладачу"
      ],
      "metadata": {}
    }
  ],
  "metadata": {
    "kernelspec": {
      "name": "python",
      "language": "python",
      "display_name": "Pyolite (preview)"
    },
    "language_info": {
      "codemirror_mode": {
        "name": "python",
        "version": 3
      },
      "file_extension": ".py",
      "mimetype": "text/x-python",
      "name": "python",
      "nbconvert_exporter": "python",
      "pygments_lexer": "ipython3",
      "version": "3.8"
    },
    "varInspector": {
      "cols": {
        "lenName": 16,
        "lenType": 16,
        "lenVar": 40
      },
      "kernels_config": {
        "python": {
          "delete_cmd_postfix": "",
          "delete_cmd_prefix": "del ",
          "library": "var_list.py",
          "varRefreshCmd": "print(var_dic_list())"
        },
        "r": {
          "delete_cmd_postfix": ") ",
          "delete_cmd_prefix": "rm(",
          "library": "var_list.r",
          "varRefreshCmd": "cat(var_dic_list()) "
        }
      },
      "types_to_exclude": [
        "module",
        "function",
        "builtin_function_or_method",
        "instance",
        "_Feature"
      ],
      "window_display": false
    },
    "kernel_info": {
      "name": "python"
    },
    "nteract": {
      "version": "nteract-front-end@1.0.0"
    }
  },
  "nbformat": 4,
  "nbformat_minor": 2
}